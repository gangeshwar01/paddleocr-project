{
 "cells": [
  {
   "cell_type": "markdown",
   "metadata": {},
   "source": [
    "# नोटबुक 2: PP-OCR के साथ टेक्स्ट डिटेक्शन मॉडल को ट्रेनिंग देना 🚀\n",
    "\n",
    "**उद्देश्य:** इस नोटबुक का उद्देश्य `1_Data_Preparation.ipynb` में तैयार किए गए डेटा का उपयोग करके एक टेक्स्ट डिटेक्शन मॉडल को प्रशिक्षित करना है। हम कॉन्फ़िगरेशन फ़ाइल को संशोधित करेंगे, ट्रेनिंग शुरू करेंगे, और प्रशिक्षित मॉडल के साथ अनुमान (inference) चलाएंगे।"
   ]
  },
  {
   "cell_type": "markdown",
   "metadata": {},
   "source": [
    "---"
   ]
  },
  {
   "cell_type": "markdown",
   "metadata": {},
   "source": [
    "## चरण 1: परिवेश सेटअप\n",
    "यह सुनिश्चित करें कि आपके पास एक GPU सक्षम वातावरण है। हम PaddlePaddle और PaddleOCR स्थापित करेंगे, और ट्रेनिंग स्क्रिप्ट के लिए रिपॉजिटरी को क्लोन करेंगे।"
   ]
  },
  {
   "cell_type": "code",
   "execution_count": null,
   "metadata": {},
   "outputs": [],
   "source": [
    "# PaddlePaddle और PaddleOCR स्थापित करें\n",
    "!python -m pip install paddlepaddle-gpu -f https://www.paddlepaddle.org.cn/whl/linux/mkl/avx/stable.html\n",
    "!pip install \"paddleocr>=2.7\" pyyaml\n",
    "\n",
    "# ट्रेनिंग के लिए PaddleOCR रिपॉजिटरी को क्लोन करें\n",
    "!git clone https://github.com/PaddlePaddle/PaddleOCR.git\n",
    "%cd PaddleOCR"
   ]
  },
  {
   "cell_type": "markdown",
   "metadata": {},
   "source": [
    "---"
   ]
  },
  {
   "cell_type": "markdown",
   "metadata": {},
   "source": [
    "## चरण 2: डेटा को लिंक करना\n",
    "हम अपने तैयार किए गए डेटासेट को PaddleOCR निर्देशिका में लिंक करेंगे ताकि स्क्रिप्ट उसे ढूँढ सके।"
   ]
  },
  {
   "cell_type": "code",
   "execution_count": null,
   "metadata": {},
   "outputs": [],
   "source": [
    "# मान लें कि आपका 'dataset' फ़ोल्डर एक स्तर ऊपर है\n",
    "!mkdir -p train_data\n",
    "!ln -s ../dataset ./train_data/icdar2015 # एक सामान्य नाम के रूप में लिंक करें"
   ]
  },
  {
   "cell_type": "markdown",
   "metadata": {},
   "source": [
    "---"
   ]
  },
  {
   "cell_type": "markdown",
   "metadata": {},
   "source": [
    "## चरण 3: ट्रेनिंग कॉन्फ़िगरेशन को संशोधित करना\n",
    "हम एक हल्के डिटेक्शन मॉडल (`det_mv3_db.yml`) के लिए कॉन्फ़िगरेशन को संशोधित करेंगे ताकि वह हमारे कस्टम डेटासेट को इंगित करे और ट्रेनिंग मापदंडों को समायोजित करे।"
   ]
  },
  {
   "cell_type": "code",
   "execution_count": null,
   "metadata": {},
   "outputs": [],
   "source": [
    "import yaml\n",
    "\n",
    "config_path = 'configs/det/det_mv3_db.yml'\n",
    "with open(config_path, 'r') as f:\n",
    "    config = yaml.safe_load(f)\n",
    "\n",
    "# हमारे डेटासेट पथ सेट करें\n",
    "config['Global']['save_model_dir'] = './output/det_db'\n",
    "config['Global']['epoch_num'] = 50 # प्रदर्शन के लिए युगों की संख्या कम करें\n",
    "config['Optimizer']['lr']['learning_rate'] = 0.0005\n",
    "\n",
    "config['Train']['dataset']['data_dir'] = './train_data/icdar2015/'\n",
    "config['Train']['dataset']['label_file_list'] = ['./train_data/icdar2015/det_label_train.txt']\n",
    "\n",
    "config['Eval']['dataset']['data_dir'] = './train_data/icdar2015/'\n",
    "config['Eval']['dataset']['label_file_list'] = ['./train_data/icdar2015/det_label_val.txt']\n",
    "\n",
    "# संशोधित कॉन्फ़िगरेशन को एक नई फ़ाइल में सहेजें\n",
    "custom_config_path = 'configs/det/my_custom_det_config.yml'\n",
    "with open(custom_config_path, 'w') as f:\n",
    "    yaml.dump(config, f)\n",
    "\n",
    "print(f\"कस्टम कॉन्फ़िगरेशन '{custom_config_path}' में सहेजा गया।\")"
   ]
  },
  {
   "cell_type": "markdown",
   "metadata": {},
   "source": [
    "---"
   ]
  },
  {
   "cell_type": "markdown",
   "metadata": {},
   "source": [
    "## चरण 4: ट्रेनिंग शुरू करना\n",
    "अब हम अपनी कस्टम कॉन्फ़िगरेशन फ़ाइल का उपयोग करके `tools/train.py` स्क्रिप्ट चलाएंगे। हम एक पूर्व-प्रशिक्षित बैकबोन का उपयोग करके ट्रेनिंग को गति देंगे।"
   ]
  },
  {
   "cell_type": "code",
   "execution_count": null,
   "metadata": {},
   "outputs": [],
   "source": [
    "# पूर्व-प्रशिक्षित मॉडल डाउनलोड करें (यदि आवश्यक हो)\n",
    "!wget https://paddle-ocr-pretrain.bj.bcebos.com/MobileNetV3_large_x0_5_pretrained.pdparams -P ./pretrain_models/\n",
    "\n",
    "# ट्रेनिंग कमांड चलाएँ\n",
    "!python tools/train.py \\\n",
    "    -c configs/det/my_custom_det_config.yml \\\n",
    "    -o Global.pretrained_model=./pretrain_models/MobileNetV3_large_x0_5_pretrained"
   ]
  },
  {
   "cell_type": "markdown",
   "metadata": {},
   "source": [
    "---"
   ]
  },
  {
   "cell_type": "markdown",
   "metadata": {},
   "source": [
    "## चरण 5: प्रशिक्षित मॉडल के साथ अनुमान (Inference)\n",
    "ट्रेनिंग पूरी होने के बाद, हम अपने सबसे अच्छे मॉडल को लोड करेंगे और एक परीक्षण छवि पर इसका उपयोग करेंगे।"
   ]
  },
  {
   "cell_type": "code",
   "execution_count": null,
   "metadata": {},
   "outputs": [],
   "source": [
    "from paddleocr import PaddleOCR, draw_ocr\n",
    "from PIL import Image\n",
    "\n",
    "# PaddleOCR को प्रशिक्षित डिटेक्शन मॉडल के साथ प्रारंभ करें\n",
    "# केवल डिटेक्शन के लिए rec=False सेट करें\n",
    "ocr_engine = PaddleOCR(\n",
    "    det_model_dir='./output/det_db/best_accuracy',\n",
    "    use_angle_cls=False,\n",
    "    rec=False, # हम केवल डिटेक्शन का परीक्षण कर रहे हैं\n",
    "    use_gpu=True\n",
    ")\n",
    "\n",
    "img_path = './train_data/icdar2015/images/img_01.png'\n",
    "result = ocr_engine.ocr(img_path, cls=False, det=True)\n",
    "\n",
    "# परिणाम की कल्पना करें\n",
    "print(\"डिटेक्शन परिणाम:\")\n",
    "print(result)\n",
    "\n",
    "image = Image.open(img_path).convert('RGB')\n",
    "boxes = [line[0] for line in result[0]]\n",
    "im_show = draw_ocr(image, boxes)\n",
    "display(Image.fromarray(im_show))"
   ]
  }
 ],
 "metadata": {
  "kernelspec": {
   "display_name": "Python 3",
   "language": "python",
   "name": "python3"
  },
  "language_info": {
   "codemirror_mode": {
    "name": "ipython",
    "version": 3
   },
   "file_extension": ".py",
   "mimetype": "text/x-python",
   "name": "python",
   "nbconvert_exporter": "python",
   "pygments_lexer": "ipython3",
   "version": "3.9.7"
  }
 },
 "nbformat": 4,
 "nbformat_minor": 4
}
