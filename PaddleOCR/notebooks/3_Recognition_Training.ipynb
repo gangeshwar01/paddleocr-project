{
 "cells": [
  {
   "cell_type": "markdown",
   "metadata": {},
   "source": [
    "# नोटबुक 3: PP-OCR के साथ टेक्स्ट रिकॉग्निशन मॉडल को ट्रेनिंग देना 🏆\n",
    "\n",
    "**उद्देश्य:** इस नोटबुक का उद्देश्य `1_Data_Preparation.ipynb` में तैयार की गई क्रॉप की गई शब्द छवियों का उपयोग करके एक टेक्स्ट रिकॉग्निशन मॉडल को प्रशिक्षित करना है। हम एक कस्टम कैरेक्टर डिक्शनरी बनाएंगे, कॉन्फ़िगरेशन को संशोधित करेंगे, और मॉडल को प्रशिक्षित करेंगे।"
   ]
  },
  {
   "cell_type": "markdown",
   "metadata": {},
   "source": [
    "---"
   ]
  },
  {
   "cell_type": "markdown",
   "metadata": {},
   "source": [
    "## चरण 1: परिवेश सेटअप\n",
    "यह मान लिया जाता है कि आपने नोटबुक 2 से पहले ही PaddleOCR स्थापित और क्लोन कर लिया है।"
   ]
  },
  {
   "cell_type": "code",
   "execution_count": null,
   "metadata": {},
   "outputs": [],
   "source": [
    "import os\n",
    "import yaml\n",
    "\n",
    "# PaddleOCR निर्देशिका में जाएँ\n",
    "if os.path.basename(os.getcwd()) != 'PaddleOCR':\n",
    "    %cd PaddleOCR"
   ]
  },
  {
   "cell_type": "markdown",
   "metadata": {},
   "source": [
    "---"
   ]
  },
  {
   "cell_type": "markdown",
   "metadata": {},
   "source": [
    "## चरण 2: कस्टम कैरेक्टर डिक्शनरी बनाना\n",
    "एक रिकॉग्निशन मॉडल को आपके डेटासेट में मौजूद सभी अद्वितीय अक्षरों की एक सूची की आवश्यकता होती है।"
   ]
  },
  {
   "cell_type": "code",
   "execution_count": null,
   "metadata": {},
   "outputs": [],
   "source": [
    "label_file = '../dataset/rec_label.txt'\n",
    "unique_chars = set()\n",
    "\n",
    "with open(label_file, 'r') as f:\n",
    "    for line in f:\n",
    "        try:\n",
    "            _, text = line.strip().split('\\t')\n",
    "            for char in text:\n",
    "                unique_chars.add(char)\n",
    "        except ValueError:\n",
    "            continue\n",
    "\n",
    "dict_content = '\\n'.join(sorted(list(unique_chars)))\n",
    "dict_path = '../dataset/custom_dict.txt'\n",
    "with open(dict_path, 'w') as f:\n",
    "    f.write(dict_content)\n",
    "\n",
    "print(f\"कस्टम डिक्शनरी '{dict_path}' में सहेजी गई जिसमें {len(unique_chars)} अक्षर हैं।\")\n",
    "!cat {dict_path}"
   ]
  },
  {
   "cell_type": "markdown",
   "metadata": {},
   "source": [
    "---"
   ]
  },
  {
   "cell_type": "markdown",
   "metadata": {},
   "source": [
    "## चरण 3: रिकॉग्निशन कॉन्फ़िगरेशन को संशोधित करना\n",
    "हम एक हल्के CRNN मॉडल के लिए कॉन्फ़िगरेशन को संशोधित करेंगे ताकि वह हमारी कस्टम डिक्शनरी और डेटा पथों का उपयोग करे।"
   ]
  },
  {
   "cell_type": "code",
   "execution_count": null,
   "metadata": {},
   "outputs": [],
   "source": [
    "config_path = 'configs/rec/PP-OCRv3/en_PP-OCRv3_rec.yml'\n",
    "with open(config_path, 'r') as f:\n",
    "    config = yaml.safe_load(f)\n",
    "\n",
    "config['Global']['save_model_dir'] = './output/rec_crnn'\n",
    "config['Global']['epoch_num'] = 100\n",
    "config['Global']['character_dict_path'] = '../dataset/custom_dict.txt'\n",
    "\n",
    "config['Optimizer']['lr']['learning_rate'] = 0.0005\n",
    "config['Train']['dataset']['data_dir'] = '../dataset/'\n",
    "config['Train']['dataset']['label_file_list'] = ['../dataset/rec_label_train.txt']\n",
    "\n",
    "config['Eval']['dataset']['data_dir'] = '../dataset/'\n",
    "config['Eval']['dataset']['label_file_list'] = ['../dataset/rec_label_val.txt']\n",
    "\n",
    "# आउटपुट क्लास की संख्या को हमारी डिक्शनरी से मेल खाने के लिए बदलें (+1 ब्लैंक, +1 CTC के लिए)\n",
    "config['Head']['out_channels'] = len(unique_chars) + 1 \n",
    "\n",
    "custom_config_path = 'configs/rec/my_custom_rec_config.yml'\n",
    "with open(custom_config_path, 'w') as f:\n",
    "    yaml.dump(config, f)\n",
    "\n",
    "print(f\"कस्टम रिकॉग्निशन कॉन्फ़िगरेशन '{custom_config_path}' में सहेजा गया।\")"
   ]
  },
  {
   "cell_type": "markdown",
   "metadata": {},
   "source": [
    "---"
   ]
  },
  {
   "cell_type": "markdown",
   "metadata": {},
   "source": [
    "## चरण 4: रिकॉग्निशन ट्रेनिंग शुरू करना\n",
    "अब हम अपनी नई कॉन्फ़िगरेशन फ़ाइल के साथ रिकॉग्निशन मॉडल को प्रशिक्षित करेंगे।"
   ]
  },
  {
   "cell_type": "code",
   "execution_count": null,
   "metadata": {},
   "outputs": [],
   "source": [
    "!python tools/train.py -c configs/rec/my_custom_rec_config.yml"
   ]
  },
  {
   "cell_type": "markdown",
   "metadata": {},
   "source": [
    "---"
   ]
  },
  {
   "cell_type": "markdown",
   "metadata": {},
   "source": [
    "## चरण 5: प्रशिक्षित रिकॉग्निशन मॉडल के साथ अनुमान\n",
    "ट्रेनिंग के बाद, हम एक एकल क्रॉप की गई शब्द छवि को पहचानने के लिए अपने मॉडल का उपयोग करेंगे।"
   ]
  },
  {
   "cell_type": "code",
   "execution_count": null,
   "metadata": {},
   "outputs": [],
   "source": [
    "from paddleocr import PaddleOCR\n",
    "\n",
    "# PaddleOCR को हमारे प्रशिक्षित रिकॉग्निशन मॉडल के साथ प्रारंभ करें\n",
    "ocr_engine = PaddleOCR(\n",
    "    det=False, # हम केवल रिकॉग्निशन का परीक्षण कर रहे हैं\n",
    "    rec_model_dir='./output/rec_crnn/best_accuracy',\n",
    "    rec_char_dict_path='../dataset/custom_dict.txt',\n",
    "    use_gpu=True\n",
    ")\n",
    "\n",
    "img_path = '../dataset/word_crops/crop_0000.png'\n",
    "result = ocr_engine.ocr(img_path, cls=False, det=False)\n",
    "\n",
    "print(\"रिकॉग्निशन परिणाम:\")\n",
    "print(result)"
   ]
  }
 ],
 "metadata": {
  "kernelspec": {
   "display_name": "Python 3",
   "language": "python",
   "name": "python3"
  },
  "language_info": {
   "codemirror_mode": {
    "name": "ipython",
    "version": 3
   },
   "file_extension": ".py",
   "mimetype": "text/x-python",
   "name": "python",
   "nbconvert_exporter": "python",
   "pygments_lexer": "ipython3",
   "version": "3.9.7"
  }
 },
 "nbformat": 4,
 "nbformat_minor": 4
}
