{
 "cells": [
  {
   "cell_type": "markdown",
   "metadata": {},
   "source": [
    "# Train a PaddleOCR Text Detection Model on Colab\n",
    "\n",
    "This notebook guides you through fine-tuning a **DBNet** text detection model on a custom dataset."
   ]
  },
  {
   "cell_type": "markdown",
   "metadata": {},
   "source": [
    "## 1. Setup Environment"
   ]
  },
  {
   "cell_type": "code",
   "execution_count": null,
   "metadata": {},
   "outputs": [],
   "source": [
    "# Install PaddlePaddle GPU and PaddleOCR\n",
    "!python -m pip install paddlepaddle-gpu==2.6.1 -f https://www.paddlepaddle.org.cn/whl/linux/mkl/avx/stable.html\n",
    "!pip install \"paddleocr>=2.7.0\""
   ]
  },
  {
   "cell_type": "code",
   "execution_count": null,
   "metadata": {},
   "outputs": [],
   "source": [
    "# Clone the PaddleOCR repository to access training scripts and configs\n",
    "!git clone https://github.com/PaddlePaddle/PaddleOCR.git\n",
    "%cd PaddleOCR"
   ]
  },
  {
   "cell_type": "markdown",
   "metadata": {},
   "source": [
    "## 2. Prepare Dataset\n",
    "\n",
    "We'll use the ICDAR 2015 dataset as an example. We download it, unzip it, and format the labels."
   ]
  },
  {
   "cell_type": "code",
   "execution_count": null,
   "metadata": {},
   "outputs": [],
   "source": [
    "# Download and unzip the dataset\n",
    "!wget https://paddleocr.bj.bcebos.com/dataset/rec_data/icdar_c4_train_imgs.zip -O train_data.zip\n",
    "!unzip -q train_data.zip\n",
    "\n",
    "# The default label file needs to be pointed to the correct image path\n",
    "with open('icdar_c4_train_imgs/tra.txt', 'r') as f_in, open('train_label.txt', 'w') as f_out:\n",
    "    for line in f_in:\n",
    "        img_name, text = line.strip().split(',')\n",
    "        f_out.write(f'icdar_c4_train_imgs/{img_name}\\t{text}\\n')"
   ]
  },
  {
   "cell_type": "markdown",
   "metadata": {},
   "source": [
    "## 3. Configure Training\n",
    "\n",
    "We'll use a lightweight MobileNetV3 DBNet configuration and modify it for our dataset."
   ]
  },
  {
   "cell_type": "code",
   "execution_count": null,
   "metadata": {},
   "outputs": [],
   "source": [
    "# Pre-download the backbone weights\n",
    "!wget https://paddle-imagenet-models-name.bj.bcebos.com/dygraph/MobileNetV3_large_x0_5_pretrained.pdparams -P ./pretrain_models/"
   ]
  },
  {
   "cell_type": "markdown",
   "metadata": {},
   "source": [
    "## 4. Launch Training\n",
    "\n",
    "We start the training process. This may take a while. We'll train for only 50 epochs for this demo."
   ]
  },
  {
   "cell_type": "code",
   "execution_count": null,
   "metadata": {},
   "outputs": [],
   "source": [
    "!export CUDA_VISIBLE_DEVICES=0\n",
    "!python3 tools/train.py \\\n",
    "    -c configs/det/det_mv3_db.yml \\\n",
    "    -o Global.pretrain_weights=./pretrain_models/MobileNetV3_large_x0_5_pretrained \\\n",
    "       Global.save_model_dir=./output/det_db_icdar15 \\\n",
    "       Global.epoch_num=50 \\\n",
    "       Train.dataset.label_file_list=['./train_label.txt'] \\\n",
    "       Train.dataset.data_dir=./ \\\n",
    "       Eval.dataset.label_file_list=['./train_label.txt'] \\\n",
    "       Eval.dataset.data_dir=./ \\\n",
    "       Train.loader.batch_size_per_card=8"
   ]
  },
  {
   "cell_type": "markdown",
   "metadata": {},
   "source": [
    "## 5. Test Inference\n",
    "Let's test the trained model on a sample image."
   ]
  },
  {
   "cell_type": "code",
   "execution_count": null,
   "metadata": {},
   "outputs": [],
   "source": [
    "from paddleocr import PaddleOCR, draw_ocr\n",
    "from PIL import Image\n",
    "\n",
    "ocr = PaddleOCR(det_model_dir='./output/det_db_icdar15/best_accuracy', use_angle_cls=False, lang='en', use_gpu=True, show_log=False)\n",
    "\n",
    "img_path = './doc/imgs/11.jpg'\n",
    "result = ocr.ocr(img_path, det=True, rec=False, cls=False)\n",
    "\n",
    "image = Image.open(img_path).convert('RGB')\n",
    "boxes = [line[0] for line in result[0]]\n",
    "im_show = draw_ocr(image, boxes, font_path='./doc/fonts/latin.ttf')\n",
    "Image.fromarray(im_show).save('result.jpg')\n",
    "display(Image.open('result.jpg'))"
   ]
  }
 ],
 "metadata": {
  "kernelspec": {
   "display_name": "Python 3",
   "language": "python",
   "name": "python3"
  },
  "language_info": {
   "name": "python",
   "version": "3.10.12"
  }
 },
 "nbformat": 4,
 "nbformat_minor": 4
}
