{
 "cells": [
  {
   "cell_type": "markdown",
   "metadata": {},
   "source": [
    "#  नोटबुक 1: PP-OCR के लिए डेटा तैयार करना 📝\n",
    "\n",
    "**उद्देश्य:** इस नोटबुक का लक्ष्य किसी भी मानक एनोटेशन प्रारूप से पैडलओसीआर (PaddleOCR) के लिए आवश्यक डिटेक्शन और रिकॉग्निशन लेबल प्रारूपों में डेटासेट को डाउनलोड, अनज़िप और परिवर्तित करना है। हम ट्रेनिंग और वैलिडेशन सेट भी बनाएंगे।"
   ]
  },
  {
   "cell_type": "markdown",
   "metadata": {},
   "source": [
    "---"
   ]
  },
  {
   "cell_type": "markdown",
   "metadata": {},
   "source": [
    "## चरण 1: परिवेश सेटअप"
   ]
  },
  {
   "cell_type": "code",
   "execution_count": null,
   "metadata": {},
   "outputs": [],
   "source": [
    "# आवश्यक पुस्तकालयों को स्थापित करें\n",
    "!pip install opencv-python-headless Pillow"
   ]
  },
  {
   "cell_type": "markdown",
   "metadata": {},
   "source": [
    "---"
   ]
  },
  {
   "cell_type": "markdown",
   "metadata": {},
   "source": [
    "## चरण 2: डेटासेट डाउनलोड और व्यवस्थित करें\n",
    "\n",
    "हम प्रदर्शन के लिए एक छोटे, काल्पनिक डेटासेट का उपयोग करेंगे। वास्तविक परिदृश्य में, आप यहाँ COCO-Text या ICDAR जैसे डेटासेट को डाउनलोड और अनज़िप करेंगे।"
   ]
  },
  {
   "cell_type": "code",
   "execution_count": null,
   "metadata": {},
   "outputs": [],
   "source": [
    "import os\n",
    "import json\n",
    "import random\n",
    "from PIL import Image, ImageDraw, ImageFont\n",
    "\n",
    "# डेटासेट के लिए निर्देशिकाएँ बनाएँ\n",
    "os.makedirs('dataset/images', exist_ok=True)\n",
    "os.makedirs('dataset/word_crops', exist_ok=True)\n",
    "\n",
    "# एक काल्पनिक एनोटेशन फ़ाइल बनाएँ (जैसे, COCO-Text से)\n",
    "annotations = {\n",
    "    \"img_01.png\": [\n",
    "        {\"transcription\": \"PADDLE\", \"points\": [[10, 15], [100, 16], [99, 50], [11, 49]]},\n",
    "        {\"transcription\": \"OCR\", \"points\": [[120, 20], [180, 20], [180, 55], [120, 55]]}\n",
    "    ],\n",
    "    \"img_02.png\": [\n",
    "        {\"transcription\": \"HELLO\", \"points\": [[25, 30], [150, 28], [151, 80], [26, 82]]}\n",
    "    ]\n",
    "}\n",
    "\n",
    "# प्रदर्शन के लिए डमी छवियाँ बनाएँ\n",
    "def create_dummy_image(text, path, size=(200, 100)):\n",
    "    img = Image.new('RGB', size, color='white')\n",
    "    draw = ImageDraw.Draw(img)\n",
    "    try:\n",
    "        font = ImageFont.truetype(\"arial.ttf\", 15)\n",
    "    except IOError:\n",
    "        font = ImageFont.load_default()\n",
    "    draw.text((10, 10), text, fill='black', font=font)\n",
    "    img.save(path)\n",
    "\n",
    "create_dummy_image(\"PADDLE OCR\", \"dataset/images/img_01.png\")\n",
    "create_dummy_image(\"HELLO\", \"dataset/images/img_02.png\")\n",
    "\n",
    "print(\"काल्पनिक डेटासेट बनाया गया।\")"
   ]
  },
  {
   "cell_type": "markdown",
   "metadata": {},
   "source": [
    "---"
   ]
  },
  {
   "cell_type": "markdown",
   "metadata": {},
   "source": [
    "## चरण 3: डिटेक्शन लेबल में रूपांतरण\n",
    "\n",
    "हम `det_label.txt` फ़ाइल बनाएंगे, जहाँ प्रत्येक पंक्ति में `image_path\\tjson_string` होता है।"
   ]
  },
  {
   "cell_type": "code",
   "execution_count": null,
   "metadata": {},
   "outputs": [],
   "source": [
    "det_labels = []\n",
    "for img_name, ann_list in annotations.items():\n",
    "    line = f\"images/{img_name}\\t{json.dumps(ann_list)}\"\n",
    "    det_labels.append(line)\n",
    "\n",
    "# इसे एक फ़ाइल में लिखें\n",
    "with open('dataset/det_label.txt', 'w') as f:\n",
    "    f.write('\\n'.join(det_labels))\n",
    "\n",
    "print(\"dataset/det_label.txt बनाया गया:\")\n",
    "!cat dataset/det_label.txt"
   ]
  },
  {
   "cell_type": "markdown",
   "metadata": {},
   "source": [
    "---"
   ]
  },
  {
   "cell_type": "markdown",
   "metadata": {},
   "source": [
    "## चरण 4: रिकॉग्निशन लेबल में रूपांतरण\n",
    "\n",
    "हम डिटेक्शन एनोटेशन से शब्द छवियों को क्रॉप करेंगे और `rec_label.txt` फ़ाइल बनाएंगे, जिसमें `crop_path\\tlabel` होता है।"
   ]
  },
  {
   "cell_type": "code",
   "execution_count": null,
   "metadata": {},
   "outputs": [],
   "source": [
    "rec_labels = []\n",
    "crop_counter = 0\n",
    "\n",
    "for img_name, ann_list in annotations.items():\n",
    "    img = Image.open(f\"dataset/images/{img_name}\")\n",
    "    for ann in ann_list:\n",
    "        points = ann['points']\n",
    "        transcription = ann['transcription']\n",
    "        \n",
    "        # सीमा बॉक्स प्राप्त करें और क्रॉप करें\n",
    "        x_coords = [p[0] for p in points]\n",
    "        y_coords = [p[1] for p in points]\n",
    "        box = (min(x_coords), min(y_coords), max(x_coords), max(y_coords))\n",
    "        cropped_img = img.crop(box)\n",
    "        \n",
    "        # क्रॉप की गई छवि को सहेजें\n",
    "        crop_filename = f\"word_crops/crop_{crop_counter:04d}.png\"\n",
    "        cropped_img.save(f\"dataset/{crop_filename}\")\n",
    "        \n",
    "        # रिकॉग्निशन लेबल में जोड़ें\n",
    "        rec_labels.append(f\"{crop_filename}\\t{transcription}\")\n",
    "        crop_counter += 1\n",
    "\n",
    "# रिकॉग्निशन लेबल फ़ाइल लिखें\n",
    "with open('dataset/rec_label.txt', 'w') as f:\n",
    "    f.write('\\n'.join(rec_labels))\n",
    "    \n",
    "print(\"dataset/rec_label.txt बनाया गया:\")\n",
    "!cat dataset/rec_label.txt"
   ]
  },
  {
   "cell_type": "markdown",
   "metadata": {},
   "source": [
    "---"
   ]
  },
  {
   "cell_type": "markdown",
   "metadata": {},
   "source": [
    "## चरण 5: ट्रेनिंग/वैलिडेशन विभाजन बनाएँ\n",
    "\n",
    "वास्तविक उपयोग के लिए, आपको अपने लेबल को अलग-अलग `train.txt` और `val.txt` फ़ाइलों में विभाजित करना चाहिए।"
   ]
  },
  {
   "cell_type": "code",
   "execution_count": null,
   "metadata": {},
   "outputs": [],
   "source": [
    "def create_splits(label_file_path, train_ratio=0.8):\n",
    "    with open(label_file_path, 'r') as f:\n",
    "        lines = f.readlines()\n",
    "    \n",
    "    random.shuffle(lines)\n",
    "    train_size = int(len(lines) * train_ratio)\n",
    "    train_lines = lines[:train_size]\n",
    "    val_lines = lines[train_size:]\n",
    "    \n",
    "    base_name = os.path.splitext(label_file_path)[0]\n",
    "    \n",
    "    with open(f\"{base_name}_train.txt\", 'w') as f:\n",
    "        f.writelines(train_lines)\n",
    "        \n",
    "    with open(f\"{base_name}_val.txt\", 'w') as f:\n",
    "        f.writelines(val_lines)\n",
    "    \n",
    "    print(f\"{base_name}_train.txt और {base_name}_val.txt बनाए गए।\")\n",
    "\n",
    "# डिटेक्शन और रिकॉग्निशन दोनों के लिए विभाजन बनाएँ\n",
    "create_splits('dataset/det_label.txt')\n",
    "create_splits('dataset/rec_label.txt')"
   ]
  },
  {
   "cell_type": "markdown",
   "metadata": {},
   "source": [
    "अब आपका `dataset` फ़ोल्डर PaddleOCR के साथ ट्रेनिंग के लिए तैयार है!"
   ]
  }
 ],
 "metadata": {
  "kernelspec": {
   "display_name": "Python 3",
   "language": "python",
   "name": "python3"
  },
  "language_info": {
   "codemirror_mode": {
    "name": "ipython",
    "version": 3
   },
   "file_extension": ".py",
   "mimetype": "text/x-python",
   "name": "python",
   "nbconvert_exporter": "python",
   "pygments_lexer": "ipython3",
   "version": "3.9.7"
  }
 },
 "nbformat": 4,
 "nbformat_minor": 4
}
